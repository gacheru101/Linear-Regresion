{
 "cells": [
  {
   "cell_type": "code",
   "execution_count": 2,
   "id": "953c5641",
   "metadata": {},
   "outputs": [],
   "source": [
    "import pandas as pd\n",
    "import numpy as np\n",
    "import seaborn as sns\n",
    "import matplotlib.pyplot as plt"
   ]
  },
  {
   "cell_type": "code",
   "execution_count": 3,
   "id": "453152ff",
   "metadata": {},
   "outputs": [
    {
     "data": {
      "text/html": [
       "<div>\n",
       "<style scoped>\n",
       "    .dataframe tbody tr th:only-of-type {\n",
       "        vertical-align: middle;\n",
       "    }\n",
       "\n",
       "    .dataframe tbody tr th {\n",
       "        vertical-align: top;\n",
       "    }\n",
       "\n",
       "    .dataframe thead th {\n",
       "        text-align: right;\n",
       "    }\n",
       "</style>\n",
       "<table border=\"1\" class=\"dataframe\">\n",
       "  <thead>\n",
       "    <tr style=\"text-align: right;\">\n",
       "      <th></th>\n",
       "      <th>Date</th>\n",
       "      <th>Open</th>\n",
       "      <th>High</th>\n",
       "      <th>Low</th>\n",
       "      <th>Close</th>\n",
       "    </tr>\n",
       "  </thead>\n",
       "  <tbody>\n",
       "    <tr>\n",
       "      <th>0</th>\n",
       "      <td>09/27/22</td>\n",
       "      <td>10955.29</td>\n",
       "      <td>11040.99</td>\n",
       "      <td>10741.02</td>\n",
       "      <td>10829.50</td>\n",
       "    </tr>\n",
       "    <tr>\n",
       "      <th>1</th>\n",
       "      <td>09/26/22</td>\n",
       "      <td>10833.38</td>\n",
       "      <td>11024.00</td>\n",
       "      <td>10789.05</td>\n",
       "      <td>10802.92</td>\n",
       "    </tr>\n",
       "    <tr>\n",
       "      <th>2</th>\n",
       "      <td>09/23/22</td>\n",
       "      <td>10952.69</td>\n",
       "      <td>10958.30</td>\n",
       "      <td>10732.72</td>\n",
       "      <td>10867.93</td>\n",
       "    </tr>\n",
       "    <tr>\n",
       "      <th>3</th>\n",
       "      <td>09/22/22</td>\n",
       "      <td>11167.38</td>\n",
       "      <td>11203.77</td>\n",
       "      <td>11024.64</td>\n",
       "      <td>11066.81</td>\n",
       "    </tr>\n",
       "    <tr>\n",
       "      <th>4</th>\n",
       "      <td>09/21/22</td>\n",
       "      <td>11466.21</td>\n",
       "      <td>11613.57</td>\n",
       "      <td>11219.00</td>\n",
       "      <td>11220.19</td>\n",
       "    </tr>\n",
       "  </tbody>\n",
       "</table>\n",
       "</div>"
      ],
      "text/plain": [
       "       Date      Open      High       Low     Close\n",
       "0  09/27/22  10955.29  11040.99  10741.02  10829.50\n",
       "1  09/26/22  10833.38  11024.00  10789.05  10802.92\n",
       "2  09/23/22  10952.69  10958.30  10732.72  10867.93\n",
       "3  09/22/22  11167.38  11203.77  11024.64  11066.81\n",
       "4  09/21/22  11466.21  11613.57  11219.00  11220.19"
      ]
     },
     "execution_count": 3,
     "metadata": {},
     "output_type": "execute_result"
    }
   ],
   "source": [
    "df_nas = pd.read_csv(\"C:\\\\Users\\\\Gacheru\\\\Downloads\\\\US-100 Prices.csv\")\n",
    "df_nas.head()"
   ]
  },
  {
   "cell_type": "code",
   "execution_count": 4,
   "id": "eaa517d1",
   "metadata": {},
   "outputs": [],
   "source": [
    "nas = df_nas.drop([' Open', ' High',' Low'], axis=1)"
   ]
  },
  {
   "cell_type": "code",
   "execution_count": 5,
   "id": "3a72fa44",
   "metadata": {},
   "outputs": [
    {
     "data": {
      "text/html": [
       "<div>\n",
       "<style scoped>\n",
       "    .dataframe tbody tr th:only-of-type {\n",
       "        vertical-align: middle;\n",
       "    }\n",
       "\n",
       "    .dataframe tbody tr th {\n",
       "        vertical-align: top;\n",
       "    }\n",
       "\n",
       "    .dataframe thead th {\n",
       "        text-align: right;\n",
       "    }\n",
       "</style>\n",
       "<table border=\"1\" class=\"dataframe\">\n",
       "  <thead>\n",
       "    <tr style=\"text-align: right;\">\n",
       "      <th></th>\n",
       "      <th>Date</th>\n",
       "      <th>Close</th>\n",
       "    </tr>\n",
       "  </thead>\n",
       "  <tbody>\n",
       "    <tr>\n",
       "      <th>0</th>\n",
       "      <td>09/27/22</td>\n",
       "      <td>10829.50</td>\n",
       "    </tr>\n",
       "    <tr>\n",
       "      <th>1</th>\n",
       "      <td>09/26/22</td>\n",
       "      <td>10802.92</td>\n",
       "    </tr>\n",
       "    <tr>\n",
       "      <th>2</th>\n",
       "      <td>09/23/22</td>\n",
       "      <td>10867.93</td>\n",
       "    </tr>\n",
       "    <tr>\n",
       "      <th>3</th>\n",
       "      <td>09/22/22</td>\n",
       "      <td>11066.81</td>\n",
       "    </tr>\n",
       "    <tr>\n",
       "      <th>4</th>\n",
       "      <td>09/21/22</td>\n",
       "      <td>11220.19</td>\n",
       "    </tr>\n",
       "  </tbody>\n",
       "</table>\n",
       "</div>"
      ],
      "text/plain": [
       "       Date     Close\n",
       "0  09/27/22  10829.50\n",
       "1  09/26/22  10802.92\n",
       "2  09/23/22  10867.93\n",
       "3  09/22/22  11066.81\n",
       "4  09/21/22  11220.19"
      ]
     },
     "execution_count": 5,
     "metadata": {},
     "output_type": "execute_result"
    }
   ],
   "source": [
    "nas.head()"
   ]
  },
  {
   "cell_type": "code",
   "execution_count": 8,
   "id": "54bdebb1",
   "metadata": {},
   "outputs": [
    {
     "data": {
      "image/png": "[encoded data removed]",
      "text/plain": [
       "<Figure size 1080x432 with 1 Axes>"
      ]
     },
     "metadata": {
      "needs_background": "light"
     },
     "output_type": "display_data"
    }
   ],
   "source": [
    "#plotting the dates against the price\n",
    "import matplotlib.dates as mdates\n",
    "fig, ax = plt.subplots(figsize=(15, 6))\n",
    "\n",
    "half_year_locator = mdates.MonthLocator(interval=30)\n",
    "ax.xaxis.set_major_locator(half_year_locator) # Locator for major axis only.\n",
    "\n",
    "ax.plot(nas['Date'], nas[' Close']);\n"
   ]
  },
  {
   "cell_type": "code",
   "execution_count": null,
   "id": "0659f7cf",
   "metadata": {},
   "outputs": [],
   "source": []
  }
 ],
 "metadata": {
  "kernelspec": {
   "display_name": "Python 3 (ipykernel)",
   "language": "python",
   "name": "python3"
  },
  "language_info": {
   "codemirror_mode": {
    "name": "ipython",
    "version": 3
   },
   "file_extension": ".py",
   "mimetype": "text/x-python",
   "name": "python",
   "nbconvert_exporter": "python",
   "pygments_lexer": "ipython3",
   "version": "3.9.12"
  }
 },
 "nbformat": 4,
 "nbformat_minor": 5
}
